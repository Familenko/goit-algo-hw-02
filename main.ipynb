{
 "cells": [
  {
   "cell_type": "markdown",
   "metadata": {},
   "source": [
    "# Завдання 1"
   ]
  },
  {
   "cell_type": "code",
   "execution_count": 21,
   "metadata": {},
   "outputs": [],
   "source": [
    "import queue\n",
    "import time\n",
    "import uuid\n",
    "import random\n",
    "from colorama import Fore, Style"
   ]
  },
  {
   "cell_type": "code",
   "execution_count": 22,
   "metadata": {},
   "outputs": [],
   "source": [
    "q = queue.Queue()\n",
    "\n",
    "\n",
    "def generate_request(user_input):\n",
    "    request = f\"Request {user_input} \" + str(uuid.uuid4())\n",
    "    q.put(request)\n",
    "    print(Fore.CYAN + f\"New request generated: {request}\" + Style.RESET_ALL)\n",
    "\n",
    "def process_request():\n",
    "    if not q.empty():\n",
    "        request = q.get()\n",
    "        print(Fore.YELLOW + f\"Processing request: {request}\" + Style.RESET_ALL)\n",
    "        working_load = random.randint(1, 2)\n",
    "        time.sleep(working_load)\n",
    "        print(Fore.GREEN + f\"Request processed in {working_load} seconds\" + Style.RESET_ALL)\n",
    "        print()\n",
    "    else:\n",
    "        print(\"The queue is empty\")\n",
    "\n",
    "def main():\n",
    "    while True:\n",
    "        user_input = input(\"Press Enter to generate and process a request, or type 'exit' to quit: \")\n",
    "        if user_input.lower() == 'exit':\n",
    "            break\n",
    "        generate_request(user_input)\n",
    "        process_request()"
   ]
  },
  {
   "cell_type": "code",
   "execution_count": 23,
   "metadata": {},
   "outputs": [
    {
     "name": "stdout",
     "output_type": "stream",
     "text": [
      "\u001b[36mNew request generated: Request 1 d91c12db-f598-4b97-a1bb-09a32f95da69\u001b[0m\n",
      "\u001b[33mProcessing request: Request 1 d91c12db-f598-4b97-a1bb-09a32f95da69\u001b[0m\n",
      "\u001b[32mRequest processed in 2 seconds\u001b[0m\n",
      "\n",
      "\u001b[36mNew request generated: Request 2 67f90984-9329-4b83-bbe8-836673ca237e\u001b[0m\n",
      "\u001b[33mProcessing request: Request 2 67f90984-9329-4b83-bbe8-836673ca237e\u001b[0m\n",
      "\u001b[32mRequest processed in 2 seconds\u001b[0m\n",
      "\n",
      "\u001b[36mNew request generated: Request 3 afed5393-65e4-4966-8fca-b4f36c5b22a1\u001b[0m\n",
      "\u001b[33mProcessing request: Request 3 afed5393-65e4-4966-8fca-b4f36c5b22a1\u001b[0m\n",
      "\u001b[32mRequest processed in 1 seconds\u001b[0m\n",
      "\n"
     ]
    }
   ],
   "source": [
    "main()"
   ]
  },
  {
   "cell_type": "markdown",
   "metadata": {},
   "source": [
    "# Завадання 2"
   ]
  },
  {
   "cell_type": "code",
   "execution_count": 29,
   "metadata": {},
   "outputs": [],
   "source": [
    "from collections import deque"
   ]
  },
  {
   "cell_type": "code",
   "execution_count": 30,
   "metadata": {},
   "outputs": [],
   "source": [
    "def is_palindrome(input_string):\n",
    "    normalized_string = ''.join(input_string.lower().split())\n",
    "    \n",
    "    char_deque = deque(normalized_string)\n",
    "    \n",
    "    while len(char_deque) > 1:\n",
    "        if char_deque.popleft() != char_deque.pop():\n",
    "            return False\n",
    "    \n",
    "    return True"
   ]
  },
  {
   "cell_type": "code",
   "execution_count": 31,
   "metadata": {},
   "outputs": [
    {
     "name": "stdout",
     "output_type": "stream",
     "text": [
      "True\n",
      "False\n"
     ]
    }
   ],
   "source": [
    "print(is_palindrome(\"Алла\"))\n",
    "print(is_palindrome(\"Hello\"))"
   ]
  },
  {
   "cell_type": "markdown",
   "metadata": {},
   "source": [
    "# Завдання 3"
   ]
  },
  {
   "cell_type": "code",
   "execution_count": 37,
   "metadata": {},
   "outputs": [],
   "source": [
    "class Stack:\n",
    "    def __init__(self):\n",
    "        self.stack = []\n",
    "\n",
    "    def push(self, item):\n",
    "        self.stack.append(item)\n",
    "\n",
    "    def pop(self):\n",
    "        if len(self.stack) < 1:\n",
    "            return None\n",
    "        return self.stack.pop()\n",
    "\n",
    "    def is_empty(self):\n",
    "        return len(self.stack) == 0\n",
    "\n",
    "    def peek(self):\n",
    "        if not self.is_empty():\n",
    "            return self.stack[-1]\n",
    "\n",
    "\n",
    "def check_delimiters(input_string):\n",
    "    matching_pairs = {')': '(', '}': '{', ']': '['}\n",
    "    stack = Stack()\n",
    "    \n",
    "    for char in input_string:\n",
    "        if char in '({[':\n",
    "            stack.push(char)\n",
    "            print(stack.stack)\n",
    "        elif char in ')}]':\n",
    "            if not stack.is_empty() and stack.peek() == matching_pairs[char]:\n",
    "                stack.pop()\n",
    "                print(stack.stack)\n",
    "            else:\n",
    "                return \"Delimiters are not symmetric\"\n",
    "    \n",
    "    if stack.is_empty():\n",
    "        return \"Delimiters are symmetric\"\n",
    "    else:\n",
    "        return \"Delimiters are not symmetric\""
   ]
  },
  {
   "cell_type": "code",
   "execution_count": 39,
   "metadata": {},
   "outputs": [
    {
     "name": "stdout",
     "output_type": "stream",
     "text": [
      "['(']\n",
      "[]\n",
      "['{']\n",
      "Delimiters are not symmetric\n",
      "['(']\n",
      "['(', '{']\n",
      "['(']\n",
      "[]\n",
      "['[']\n",
      "['[', '(']\n",
      "['[']\n",
      "[]\n",
      "Delimiters are symmetric\n"
     ]
    }
   ],
   "source": [
    "print(check_delimiters(\"(){]\"))\n",
    "print(check_delimiters(\"({})[()]\"))"
   ]
  },
  {
   "cell_type": "code",
   "execution_count": null,
   "metadata": {},
   "outputs": [],
   "source": []
  }
 ],
 "metadata": {
  "kernelspec": {
   "display_name": "Python 3",
   "language": "python",
   "name": "python3"
  },
  "language_info": {
   "codemirror_mode": {
    "name": "ipython",
    "version": 3
   },
   "file_extension": ".py",
   "mimetype": "text/x-python",
   "name": "python",
   "nbconvert_exporter": "python",
   "pygments_lexer": "ipython3",
   "version": "3.11.3"
  }
 },
 "nbformat": 4,
 "nbformat_minor": 2
}
